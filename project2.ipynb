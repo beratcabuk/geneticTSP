{
 "cells": [
  {
   "cell_type": "markdown",
   "metadata": {},
   "source": [
    "# Traveling Salesman Problem"
   ]
  },
  {
   "cell_type": "markdown",
   "metadata": {},
   "source": [
    "The traveling salesman problem is one of the most well-known NP-hard problems in theoretical computer science. It seeks and answer to the question \"With a given list of cities and distances, what is the shortest route that visits each city exactly once, and returns to the starting city?\". The objective function used here is the total distance of the route. In this instance, the cities are directly generated as coordinates. The route is encoded as a permutation of the indices of the cities. The objective function therefore could be thought of as follows:\n",
    "$$\n",
    "f(\\mathbf{R}) = \\sum_{i=2}^{n}\\sqrt{(r_{i,1} - r_{i-1,1})^2 + (r_{i,2} - r_{i-1,2})^2} + \\sqrt{(r_{n,1} - r_{1,1})^2 + (r_{n,2} - r_{1,2})^2}\n",
    "$$\n",
    "with $\\mathbf{R}$ being the $n\\times2$ matrix that contains the coordinates of the cities ordered by their incidence in the route."
   ]
  },
  {
   "cell_type": "code",
   "execution_count": 1,
   "metadata": {},
   "outputs": [],
   "source": [
    "import numpy as np\n",
    "import matplotlib.pyplot as plt\n",
    "from deap import base, creator, tools, algorithms\n",
    "import random"
   ]
  },
  {
   "cell_type": "markdown",
   "metadata": {},
   "source": [
    "## Generating The Problem"
   ]
  },
  {
   "cell_type": "markdown",
   "metadata": {},
   "source": [
    "For the problem, I used a problem instance that has a known optimum to allow for objective comparison of performance. The instance is taken from the University of Heidelberg's [TSPLIB website](http://comopt.ifi.uni-heidelberg.de/software/TSPLIB95/)."
   ]
  },
  {
   "cell_type": "code",
   "execution_count": 2,
   "metadata": {},
   "outputs": [
    {
     "data": {
      "text/plain": [
       "['NAME: berlin52\\n',\n",
       " 'TYPE: TSP\\n',\n",
       " 'COMMENT: 52 locations in Berlin (Groetschel)\\n',\n",
       " 'DIMENSION: 52\\n',\n",
       " 'EDGE_WEIGHT_TYPE: EUC_2D\\n',\n",
       " 'NODE_COORD_SECTION\\n',\n",
       " '1 565.0 575.0\\n',\n",
       " '2 25.0 185.0\\n',\n",
       " '3 345.0 750.0\\n',\n",
       " '4 945.0 685.0\\n',\n",
       " '5 845.0 655.0\\n',\n",
       " '6 880.0 660.0\\n',\n",
       " '7 25.0 230.0\\n',\n",
       " '8 525.0 1000.0\\n',\n",
       " '9 580.0 1175.0\\n',\n",
       " '10 650.0 1130.0\\n',\n",
       " '11 1605.0 620.0\\n',\n",
       " '12 1220.0 580.0\\n',\n",
       " '13 1465.0 200.0\\n',\n",
       " '14 1530.0 5.0\\n',\n",
       " '15 845.0 680.0\\n',\n",
       " '16 725.0 370.0\\n',\n",
       " '17 145.0 665.0\\n',\n",
       " '18 415.0 635.0\\n',\n",
       " '19 510.0 875.0\\n',\n",
       " '20 560.0 365.0\\n',\n",
       " '21 300.0 465.0\\n',\n",
       " '22 520.0 585.0\\n',\n",
       " '23 480.0 415.0\\n',\n",
       " '24 835.0 625.0\\n',\n",
       " '25 975.0 580.0\\n',\n",
       " '26 1215.0 245.0\\n',\n",
       " '27 1320.0 315.0\\n',\n",
       " '28 1250.0 400.0\\n',\n",
       " '29 660.0 180.0\\n',\n",
       " '30 410.0 250.0\\n',\n",
       " '31 420.0 555.0\\n',\n",
       " '32 575.0 665.0\\n',\n",
       " '33 1150.0 1160.0\\n',\n",
       " '34 700.0 580.0\\n',\n",
       " '35 685.0 595.0\\n',\n",
       " '36 685.0 610.0\\n',\n",
       " '37 770.0 610.0\\n',\n",
       " '38 795.0 645.0\\n',\n",
       " '39 720.0 635.0\\n',\n",
       " '40 760.0 650.0\\n',\n",
       " '41 475.0 960.0\\n',\n",
       " '42 95.0 260.0\\n',\n",
       " '43 875.0 920.0\\n',\n",
       " '44 700.0 500.0\\n',\n",
       " '45 555.0 815.0\\n',\n",
       " '46 830.0 485.0\\n',\n",
       " '47 1170.0 65.0\\n',\n",
       " '48 830.0 610.0\\n',\n",
       " '49 605.0 625.0\\n',\n",
       " '50 595.0 360.0\\n',\n",
       " '51 1340.0 725.0\\n',\n",
       " '52 1740.0 245.0\\n',\n",
       " 'EOF\\n',\n",
       " '\\n']"
      ]
     },
     "execution_count": 2,
     "metadata": {},
     "output_type": "execute_result"
    }
   ],
   "source": [
    "with open(\"./berlin52.tsp\") as file_obj:\n",
    "    file_data = file_obj.readlines()\n",
    "file_data"
   ]
  },
  {
   "cell_type": "code",
   "execution_count": 3,
   "metadata": {},
   "outputs": [
    {
     "data": {
      "text/plain": [
       "'1 565.0 575.0\\n'"
      ]
     },
     "execution_count": 3,
     "metadata": {},
     "output_type": "execute_result"
    }
   ],
   "source": [
    "cities_data = file_data[6:58]\n",
    "example = cities_data[0]\n",
    "example"
   ]
  },
  {
   "cell_type": "code",
   "execution_count": 4,
   "metadata": {},
   "outputs": [
    {
     "data": {
      "text/plain": [
       "['1', '565.0', '575.0']"
      ]
     },
     "execution_count": 4,
     "metadata": {},
     "output_type": "execute_result"
    }
   ],
   "source": [
    "example.split()"
   ]
  },
  {
   "cell_type": "code",
   "execution_count": 5,
   "metadata": {},
   "outputs": [],
   "source": [
    "N_CITIES = 52\n",
    "cities_x = [float(city.split()[1]) for city in cities_data]\n",
    "cities_y = [float(city.split()[2]) for city in cities_data]\n",
    "fast_cities_x = np.array(cities_x)\n",
    "fast_cities_y = np.array(cities_y)"
   ]
  },
  {
   "cell_type": "markdown",
   "metadata": {},
   "source": [
    "Plotting the cities."
   ]
  },
  {
   "cell_type": "code",
   "execution_count": 6,
   "metadata": {},
   "outputs": [
    {
     "data": {
      "text/plain": [
       "<matplotlib.collections.PathCollection at 0x128222fb0>"
      ]
     },
     "execution_count": 6,
     "metadata": {},
     "output_type": "execute_result"
    },
    {
     "data": {
      "image/png": "[encoded data removed]",
      "text/plain": [
       "<Figure size 640x480 with 1 Axes>"
      ]
     },
     "metadata": {},
     "output_type": "display_data"
    }
   ],
   "source": [
    "plt.scatter(cities_x, cities_y)"
   ]
  },
  {
   "cell_type": "markdown",
   "metadata": {},
   "source": [
    "DEAP is used here to solve the problem, which allows for very fast prototyping."
   ]
  },
  {
   "cell_type": "markdown",
   "metadata": {},
   "source": [
    "The fitness and the individual is created here. Since we aim to minimize a particular function, it's called FitnessMin.\n",
    "Single objective optimization is treated as a subset of multi-objective optimization in this step, so the \"weights\" that would be used to weigh the \n",
    "objectives against each other ends up just being -1."
   ]
  },
  {
   "cell_type": "code",
   "execution_count": 7,
   "metadata": {},
   "outputs": [],
   "source": [
    "creator.create(\"FitnessMin\", base.Fitness, weights=(-1.0,))\n",
    "creator.create(\"Individual\", list, fitness=creator.FitnessMin)"
   ]
  },
  {
   "cell_type": "markdown",
   "metadata": {},
   "source": [
    "The toolbox is created, and three tools are registered:\n",
    "- \"indices\"\n",
    "    - As a representation, a permutation of the indexes of the cities in the cities_X and cities_Y list will be used. This step registers each \"gene\" of the solution to be used later to produce individuals.\n",
    "- \"individual\"\n",
    "    - By following the blueprint set by the previous step iteratively, an individual is created.\n",
    "- \"population\"\n",
    "    - Creates the population by repeatedly creating individuals."
   ]
  },
  {
   "cell_type": "code",
   "execution_count": 8,
   "metadata": {},
   "outputs": [],
   "source": [
    "toolbox = base.Toolbox()\n",
    "toolbox.register(\"indices\", random.sample, range(N_CITIES), N_CITIES)\n",
    "toolbox.register(\"individual\", tools.initIterate, creator.Individual, toolbox.indices)\n",
    "toolbox.register(\"population\", tools.initRepeat, list, toolbox.individual)"
   ]
  },
  {
   "cell_type": "markdown",
   "metadata": {},
   "source": [
    "This is the objective function in code."
   ]
  },
  {
   "cell_type": "code",
   "execution_count": 9,
   "metadata": {},
   "outputs": [],
   "source": [
    "def dist(individual):\n",
    "    d = 0\n",
    "    prev_x = cities_x[0]\n",
    "    prev_y = cities_y[0]\n",
    "    for i in individual[1:]:\n",
    "        d += round(np.sqrt(np.square(cities_x[i] - prev_x) + np.square(cities_y[i] - prev_y)))\n",
    "        prev_x, prev_y = cities_x[i], cities_y[i]\n",
    "    d += round(np.sqrt(np.square(cities_x[individual[0]] - cities_x[individual[-1]]) + np.square(cities_y[individual[0]] - cities_y[individual[-1]])))\n",
    "    return [d]"
   ]
  },
  {
   "cell_type": "code",
   "execution_count": 10,
   "metadata": {},
   "outputs": [],
   "source": [
    "def fastdist(individual):\n",
    "    ind_array = np.array(individual)\n",
    "    dif_array = np.append(np.array([ind_array[i] for i in range(1, len(ind_array))]), ind_array[0])\n",
    "    d = np.round(np.sqrt(np.square(fast_cities_x[dif_array] - fast_cities_x[ind_array]) + np.square(fast_cities_y[dif_array] - fast_cities_y[ind_array]))).sum()\n",
    "    return [d]"
   ]
  },
  {
   "cell_type": "code",
   "execution_count": 29,
   "metadata": {},
   "outputs": [],
   "source": [
    "def fasterdist(individual):\n",
    "    ind_array = np.array(individual)\n",
    "    mask = np.append(np.arange(1, len(ind_array)), 0)\n",
    "    dif_array = ind_array[mask]\n",
    "    d = np.round(np.sqrt(np.square(fast_cities_x[dif_array] - fast_cities_x[ind_array]) + np.square(fast_cities_y[dif_array] - fast_cities_y[ind_array]))).sum()\n",
    "    return [d]"
   ]
  },
  {
   "cell_type": "code",
   "execution_count": 11,
   "metadata": {},
   "outputs": [
    {
     "data": {
      "text/plain": [
       "[7542]"
      ]
     },
     "execution_count": 11,
     "metadata": {},
     "output_type": "execute_result"
    }
   ],
   "source": [
    "# sanity check\n",
    "opt_solution = [1, 49, 32, 45, 19, 41, 8, 9, 10, 43, 33, 51, 11, 52, 14, 13, 47, 26, 27, 28, 12, 25, 4, 6, 15, 5, 24, 48, 38, 37, 40, 39, 36, 35, 34, 44, 46, 16, 29, 50, 20, 23, 30, 2, 7, 42, 21, 17, 3, 18, 31, 22]\n",
    "opt_solution = [i - 1 for i in opt_solution]\n",
    "dist(opt_solution)"
   ]
  },
  {
   "cell_type": "code",
   "execution_count": 12,
   "metadata": {},
   "outputs": [
    {
     "data": {
      "text/plain": [
       "[7542.0]"
      ]
     },
     "execution_count": 12,
     "metadata": {},
     "output_type": "execute_result"
    }
   ],
   "source": [
    "fastdist(opt_solution)"
   ]
  },
  {
   "cell_type": "code",
   "execution_count": 32,
   "metadata": {},
   "outputs": [
    {
     "data": {
      "text/plain": [
       "[7542.0]"
      ]
     },
     "execution_count": 32,
     "metadata": {},
     "output_type": "execute_result"
    }
   ],
   "source": [
    "fasterdist(opt_solution)"
   ]
  },
  {
   "cell_type": "code",
   "execution_count": 235,
   "metadata": {},
   "outputs": [
    {
     "name": "stdout",
     "output_type": "stream",
     "text": [
      "90.1 µs ± 291 ns per loop (mean ± std. dev. of 7 runs, 10,000 loops each)\n"
     ]
    }
   ],
   "source": [
    "%%timeit\n",
    "dist(opt_solution)"
   ]
  },
  {
   "cell_type": "code",
   "execution_count": 236,
   "metadata": {},
   "outputs": [
    {
     "name": "stdout",
     "output_type": "stream",
     "text": [
      "11.5 µs ± 45.7 ns per loop (mean ± std. dev. of 7 runs, 100,000 loops each)\n"
     ]
    }
   ],
   "source": [
    "%%timeit\n",
    "fastdist(opt_solution)"
   ]
  },
  {
   "cell_type": "code",
   "execution_count": 237,
   "metadata": {},
   "outputs": [
    {
     "name": "stdout",
     "output_type": "stream",
     "text": [
      "7.25 µs ± 74.3 ns per loop (mean ± std. dev. of 7 runs, 100,000 loops each)\n"
     ]
    }
   ],
   "source": [
    "%%timeit\n",
    "fasterdist(opt_solution)"
   ]
  },
  {
   "cell_type": "markdown",
   "metadata": {},
   "source": [
    "Our objective function works correctly, as 7542 is the optimal length."
   ]
  },
  {
   "cell_type": "markdown",
   "metadata": {},
   "source": [
    "Registering the evaluation function, and three operators: \"mate\", \"mutate\", \"select\".\n",
    "- Mate: ordered crossover operator. Chosen over PMX as it offered better performance in my trials of this problem.\n",
    "- Mutate: a mutation operator that shuffles the chromosome, produces valid offsprings because the chromosome is composed of indexes.\n",
    "- Select: tournament selection operator. Chosen over roulette wheel selection as it might perform better as suggested in Razali et al. (2011)."
   ]
  },
  {
   "cell_type": "code",
   "execution_count": 231,
   "metadata": {},
   "outputs": [],
   "source": [
    "toolbox.register(\"evaluate\", fasterdist)\n",
    "toolbox.register(\"mate\", tools.cxOrdered)\n",
    "toolbox.register(\"mutate\", tools.mutShuffleIndexes, indpb=0.05)\n",
    "toolbox.register(\"select\", tools.selTournament, tournsize=2)"
   ]
  },
  {
   "cell_type": "markdown",
   "metadata": {},
   "source": [
    "Creating the population and initializing the algorithm. The algorithm in this instance is the simplest one, as presented by Baeck et al. (2018) in chapter 7. In the generational loop, recombination, mutation and evaluation is applied sequentially. When the predefined number of generations is reached, the alogrithm stops."
   ]
  },
  {
   "cell_type": "code",
   "execution_count": 232,
   "metadata": {},
   "outputs": [],
   "source": [
    "pop_eaSimple = toolbox.population(n=20_000)\n",
    "pop_eaSimple, log = algorithms.eaSimple(pop_eaSimple, toolbox, cxpb=0.5, mutpb=0.2, ngen=1000, verbose=False)"
   ]
  },
  {
   "cell_type": "markdown",
   "metadata": {},
   "source": [
    "Printing the best individual and its score."
   ]
  },
  {
   "cell_type": "code",
   "execution_count": 239,
   "metadata": {},
   "outputs": [
    {
     "name": "stdout",
     "output_type": "stream",
     "text": [
      "Optimisation completed.\n",
      "f([43, 33, 34, 35, 48, 31, 0, 21, 17, 30, 22, 19, 49, 15, 28, 29, 1, 6, 41, 20, 16, 2, 44, 18, 40, 7, 8, 9, 42, 32, 50, 10, 51, 13, 12, 46, 25, 26, 27, 11, 24, 3, 5, 14, 4, 23, 47, 37, 39, 38, 36, 45]) = 7715.0\n"
     ]
    }
   ],
   "source": [
    "best, best_score = pop_eaSimple[0], pop_eaSimple[0].fitness.values[0]\n",
    "\n",
    "for ind in pop_eaSimple:\n",
    "    if ind.fitness.values[0] < best_score:\n",
    "        best = ind\n",
    "        best_score = ind.fitness.values[0]     \n",
    "\n",
    "print(\"Optimisation completed.\")\n",
    "print(f'f({best}) = {best_score}')"
   ]
  },
  {
   "cell_type": "markdown",
   "metadata": {},
   "source": [
    "## Visualize the Best Solution"
   ]
  },
  {
   "cell_type": "markdown",
   "metadata": {},
   "source": [
    "The best individual is translated from its index form to a list of node coordinates, then in turn plotted."
   ]
  },
  {
   "cell_type": "code",
   "execution_count": 234,
   "metadata": {},
   "outputs": [
    {
     "data": {
      "text/plain": [
       "[<matplotlib.lines.Line2D at 0x1399f8d30>]"
      ]
     },
     "execution_count": 234,
     "metadata": {},
     "output_type": "execute_result"
    },
    {
     "data": {
      "image/png": "[encoded data removed]",
      "text/plain": [
       "<Figure size 640x480 with 1 Axes>"
      ]
     },
     "metadata": {},
     "output_type": "display_data"
    }
   ],
   "source": [
    "final_route_x = []\n",
    "final_route_y = []\n",
    "for i in best:\n",
    "    final_route_x.append(cities_x[i])\n",
    "    final_route_y.append(cities_y[i])\n",
    "\n",
    "final_route_x.append(final_route_x[0])\n",
    "final_route_y.append(final_route_y[0])\n",
    "\n",
    "plt.plot(final_route_x, final_route_y, marker=\"o\", linestyle=\"--\")"
   ]
  },
  {
   "cell_type": "markdown",
   "metadata": {},
   "source": [
    "References:\\\n",
    "Razali, N. M., & Geraghty, J. (2011). Genetic Algorithm Performance with Different Selection Strategies in Solving TSP.\\\n",
    "Baeck, T., Fogel, D. B., & Michalewicz, Z. (2018). Evolutionary Computation 1: Basic Algorithms and Operators. CRC Press."
   ]
  }
 ],
 "metadata": {
  "kernelspec": {
   "display_name": "evolutionary-models",
   "language": "python",
   "name": "python3"
  },
  "language_info": {
   "codemirror_mode": {
    "name": "ipython",
    "version": 3
   },
   "file_extension": ".py",
   "mimetype": "text/x-python",
   "name": "python",
   "nbconvert_exporter": "python",
   "pygments_lexer": "ipython3",
   "version": "3.10.12"
  },
  "orig_nbformat": 4
 },
 "nbformat": 4,
 "nbformat_minor": 2
}
